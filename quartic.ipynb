{
 "cells": [
  {
   "cell_type": "code",
   "execution_count": 1,
   "id": "19726c74",
   "metadata": {},
   "outputs": [],
   "source": [
    "import numpy as np\n",
    "import matplotlib.pyplot as plt\n",
    "from scipy.integrate import RK45\n",
    "from scipy.interpolate import interp1d\n",
    "from scipy.optimize import fsolve\n",
    "import sys"
   ]
  },
  {
   "cell_type": "code",
   "execution_count": 16,
   "id": "e07ede2a",
   "metadata": {},
   "outputs": [],
   "source": [
    "class calc:\n",
    "    def __init__(self, lam, phi_i, V0 = 1e3, t_fin = 1e10):\n",
    "        self.lam = lam\n",
    "        self.phi_i = phi_i\n",
    "        self.V0 = V0\n",
    "        self.t_fin = t_fin\n",
    "        self.dphi_i = -self.Vphi(self.phi_i) / np.sqrt(3.*self.V(self.phi_i))\n",
    "        self.t = np.array([])\n",
    "        self.solphi = np.array([])\n",
    "        self.soldphi = np.array([])\n",
    "        self.N = np.array([])\n",
    "        self.H = np.array([])\n",
    "        self.ep = np.array([])\n",
    "        self.et = np.array([])\n",
    "\n",
    "    def V(self, phi):\n",
    "        return self.V0 * (1 - self.lam * phi**4)\n",
    "\n",
    "    def Vphi(self,phi):\n",
    "        return -4. * self.V0 * self.lam * phi**3\n",
    "\n",
    "    def Vphiphi(self,phi):\n",
    "        return -12. * self.V0 * self.lam * phi**2\n",
    "\n",
    "    def epsilon(self,phi):\n",
    "        return 0.5 * (self.Vphi(phi) / self.V(phi))**2\n",
    "\n",
    "    def eta(self,phi):\n",
    "        return self.Vphiphi(phi) / self.V(phi)\n",
    "\n",
    "    def Hubble(self,phi,dphi):\n",
    "        return np.sqrt(1./3. * (0.5 * dphi**2 + self.V(phi)))\n",
    "    \n",
    "    def solve(self):\n",
    "        def func(t, y):\n",
    "            phi, dphi, N, H = y\n",
    "            dydt = [dphi, -3. * H * dphi - self.Vphi(phi), H, -1/2*dphi**2]\n",
    "            return dydt \n",
    "        y0 = [self.phi_i,self.dphi_i, 0., self.Hubble(self.phi_i,self.dphi_i)]\n",
    "        sol = RK45(func, 1e-9, y0, self.t_fin,rtol=5e-14,atol=1e-20)\n",
    "\n",
    "        while(True):\n",
    "            t_val = sol.t\n",
    "            solphi_v, soldphi_v, N_v, H_v = sol.y[0], sol.y[1], sol.y[2], sol.y[3]\n",
    "            self.t = np.append(self.t, t_val)\n",
    "            self.solphi = np.append(self.solphi,solphi_v)\n",
    "            self.soldphi = np.append(self.soldphi,soldphi_v)\n",
    "            self.N = np.append(self.N,N_v)\n",
    "            self.H = np.append(self.H,H_v)\n",
    "            self.ep = np.append(self.ep, self.epsilon(solphi_v))\n",
    "            self.et = np.append(self.et, self.eta(solphi_v))\n",
    "            sys.stdout.write(\"\\r lambda = %.2e N = %.4f ep = %.2e\" % (self.lam, N_v,self.epsilon(solphi_v)))\n",
    "            if (sol.status == 'finished') or (self.epsilon(solphi_v) > 1):\n",
    "                break\n",
    "            if ((H_v-self.Hubble(solphi_v,soldphi_v))/H_v>0.1):\n",
    "                sys.stdout.write(\"\\r Error\")\n",
    "                break\n",
    "            sol.step()\n",
    "\n",
    "        epN_ip = interp1d(self.ep, self.N, kind=\"cubic\")\n",
    "        Nep_ip = interp1d(self.N, self.ep, kind=\"cubic\")\n",
    "        Net_ip = interp1d(self.N, self.et, kind=\"cubic\")\n",
    "        self.ep_50 = float(Nep_ip(epN_ip(1.)-50))\n",
    "        self.et_50 = float(Net_ip(epN_ip(1.)-50))\n",
    "        self.ep_60 = float(Nep_ip(epN_ip(1.)-60))\n",
    "        self.et_60 = float(Net_ip(epN_ip(1.)-60))\n",
    "        \n",
    "        self.ns_50 = 1. -6.*self.ep_50 + 2.* self.et_50\n",
    "        self.r_50 = 16. * self.ep_50\n",
    "        self.ns_60 = 1. -6.*self.ep_60 + 2.* self.et_60\n",
    "        self.r_60 = 16. * self.ep_60"
   ]
  },
  {
   "cell_type": "code",
   "execution_count": 17,
   "id": "e6cf1526",
   "metadata": {},
   "outputs": [
    {
     "name": "stdout",
     "output_type": "stream",
     "text": [
      " lambda = 1.00e-01 N = 159.6250 ep = 1.00e+0000"
     ]
    }
   ],
   "source": [
    "ns_50 = np.array([])\n",
    "ns_60 = np.array([])\n",
    "r_50 = np.array([])\n",
    "r_60 = np.array([])\n",
    "\n",
    "for i in np.logspace(-5, -1, 10, base=10):\n",
    "    a = calc(lam=i,phi_i=1/i**0.25/20)\n",
    "    a.solve()\n",
    "    ns_50 = np.append(ns_50, a.ns_50)\n",
    "    ns_60 = np.append(ns_60, a.ns_60)\n",
    "    r_50 = np.append(r_50, a.r_50)\n",
    "    r_60 = np.append(r_60, a.r_60)"
   ]
  },
  {
   "cell_type": "code",
   "execution_count": 21,
   "id": "843da26c",
   "metadata": {},
   "outputs": [
    {
     "data": {
      "text/plain": [
       "<matplotlib.legend.Legend at 0x7f456650b3d0>"
      ]
     },
     "execution_count": 21,
     "metadata": {},
     "output_type": "execute_result"
    },
    {
     "data": {
      "image/png": "[encoded data removed]",
      "text/plain": [
       "<Figure size 576x432 with 1 Axes>"
      ]
     },
     "metadata": {
      "needs_background": "light"
     },
     "output_type": "display_data"
    }
   ],
   "source": [
    "plt.rcParams[\"font.size\"] = 20\n",
    "fig = plt.figure(figsize = (8, 6))\n",
    "ax = fig.add_subplot(111)\n",
    "ax.set_xlabel(r\"$n_s$\")\n",
    "ax.set_ylabel(r\"$r$\")\n",
    "\n",
    "nsr50 = interp1d(ns_50, r_50, kind=\"cubic\")\n",
    "nsr60 = interp1d(ns_60, r_60, kind=\"cubic\")\n",
    "ns_50a = np.linspace(ns_50[0],ns_50[-1],1000)\n",
    "ns_60a = np.linspace(ns_60[0],ns_60[-1],1000)\n",
    "# ax.plot(ns_50, r_50, color = \"blue\", label=\"N=50\")\n",
    "# ax.plot(ns_60, r_60, color = \"red\", label=\"N=60\")\n",
    "ax.plot(ns_50a, nsr50(ns_50a), color = \"blue\", label=\"N=50\")\n",
    "ax.plot(ns_60a, nsr60(ns_60a), color = \"red\", label=\"N=60\")\n",
    "plt.legend()"
   ]
  },
  {
   "cell_type": "code",
   "execution_count": null,
   "id": "4e60303a",
   "metadata": {},
   "outputs": [],
   "source": []
  }
 ],
 "metadata": {
  "kernelspec": {
   "display_name": "cosmology",
   "language": "python",
   "name": "cosmology"
  },
  "language_info": {
   "codemirror_mode": {
    "name": "ipython",
    "version": 3
   },
   "file_extension": ".py",
   "mimetype": "text/x-python",
   "name": "python",
   "nbconvert_exporter": "python",
   "pygments_lexer": "ipython3",
   "version": "3.8.0"
  }
 },
 "nbformat": 4,
 "nbformat_minor": 5
}
